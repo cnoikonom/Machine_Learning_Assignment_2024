{
  "cells": [
    {
      "cell_type": "markdown",
      "metadata": {
        "id": "cQ7YzabwjTmk"
      },
      "source": [
        "## Εργασία 3 ##\n",
        "\n",
        "Καλωσήρθατε στην τρίτη σας εργασία. Η εργασία αυτή έχει σκοπό να σας βοηθήσει να εμπεδώσετε τα σύνολα μοντέλων.\n",
        "\n",
        "Στην εργασία αυτή θα πρέπει να συμπληρώσετε κώδικα Python 3 στα σημεία που αναφέρουν # YOUR CODE HERE. Μην τροποποιείτε τον κώδικα που βρίσκεται εκτός αυτών των περιοχών.\n",
        "\n",
        "Πρωτού παραδόσετε την εργασία σας σιγουρευτείτε ότι ο κώδικας σε όλα τα κελιά τρέχει σωστά. Για το σκοπό αυτό επιλέξτε από το μενού Χρόνος εκτέλεσης (runtime) -> Επανεκίνηση περιόδου λειτουργίας και εκτέλεση όλων.\n",
        "\n",
        "Συμπληρώστε το όνομα (NAME) και το AEM σας παρακάτω:"
      ]
    },
    {
      "cell_type": "code",
      "execution_count": 1,
      "metadata": {
        "id": "3-rBqXXbjyR0"
      },
      "outputs": [],
      "source": [
        "NAME = \"Christos Oikonomou\"\n",
        "AEM = \"10268\""
      ]
    },
    {
      "cell_type": "markdown",
      "metadata": {
        "id": "egArYhcsTG-T"
      },
      "source": [
        "**1** Διαβάστε το διαθέσιμο από την sklearn σύνολο δεδομένων breast cancer, χωρίστε το σε δεδομένα εκπαίδευσης (X_train, y_train) και ελέγχου (X_test, y_test) σε ποσοστό 70%/30% αντίστοιχα με τη συνάρτηση train_test_split (τιμή για random_state βάλτε 0). Το σύνολο αφορά τη διάγνωση καρκίνου του μαστού με βάση μεταβλητές που υπολογίζονται από μια ψηφιοποιημένη εικόνα δείγματος μάζας μαστού που λήφθηκε μέσω αναρρόφησης λεπτής βελόνας (FNA). (2 μονάδες)"
      ]
    },
    {
      "cell_type": "code",
      "execution_count": 2,
      "metadata": {
        "deletable": false,
        "id": "qgaPtNAmTCX7",
        "nbgrader": {
          "cell_type": "code",
          "checksum": "29b99b6039fac516d5fa9c7649e40e1d",
          "grade": false,
          "grade_id": "cell-407a2dea48bfbf80",
          "locked": false,
          "schema_version": 3,
          "solution": true,
          "task": false
        }
      },
      "outputs": [],
      "source": [
        "# YOUR CODE HERE\n",
        "from sklearn.model_selection import train_test_split\n",
        "from sklearn.datasets import load_breast_cancer\n",
        "\n",
        "breast_cancer = load_breast_cancer()\n",
        "X = breast_cancer.data\n",
        "y = breast_cancer.target\n",
        "\n",
        "X_train, X_test, y_train, y_test = train_test_split(X, y, test_size = 0.3, train_size = 0.7, random_state = 0)"
      ]
    },
    {
      "cell_type": "code",
      "execution_count": 3,
      "metadata": {
        "deletable": false,
        "editable": false,
        "id": "19LlgZx5cOLP",
        "nbgrader": {
          "cell_type": "code",
          "checksum": "e4b7add4e469cfc1221bdad01497d404",
          "grade": true,
          "grade_id": "cell-7387a72f2393ed9a",
          "locked": true,
          "points": 2,
          "schema_version": 3,
          "solution": false,
          "task": false
        }
      },
      "outputs": [],
      "source": [
        "\"\"\"Τεστ ορθής ανάγνωσης και διαχωρισμού του συνόλου δεδομένων\"\"\"\n",
        "assert round(X_train[0][8], 5) == 0.1779\n",
        "assert round(X_test[0][8], 5) == 0.2116"
      ]
    },
    {
      "cell_type": "markdown",
      "metadata": {
        "id": "RB8RexuPciQr"
      },
      "source": [
        "**2** Υλοποιήστε μια ντετερμινιστική εκδοχή της μεθόδου των τυχαίων υποχώρων, η οποία χτίζει τόσα μοντέλα όσες και οι μεταβλητές εισόδου, κάθε ένα από τα οποία αγνοεί και μία διαφορετική μεταβλητή εισόδου. Π.χ. το πρώτο μοντέλο αγνοεί την πρώτη, το δεύτερο αγνοεί τη δεύτερη κτλ. Χρησιμοποιήστε τη συνάρτηση clone από το sklearn.base για να δημιουργήστε αντίγραφο του βασικού μοντέλου σε κάθε επανάληψη. (4 μονάδες)"
      ]
    },
    {
      "cell_type": "code",
      "execution_count": 4,
      "metadata": {
        "deletable": false,
        "id": "KuC_s04KcigR",
        "nbgrader": {
          "cell_type": "code",
          "checksum": "5fbe3d9c3d8e46ffc9d9cf06a7644fa3",
          "grade": false,
          "grade_id": "cell-df57dc0d540a2518",
          "locked": false,
          "schema_version": 3,
          "solution": true,
          "task": false
        }
      },
      "outputs": [],
      "source": [
        "import numpy as np\n",
        "from sklearn.tree import DecisionTreeClassifier\n",
        "from sklearn.base import clone\n",
        "\n",
        "class RandomSubspaceDet:\n",
        "    def __init__(self, estimator=DecisionTreeClassifier()):\n",
        "        # YOUR CODE HERE\n",
        "        self.estimator = estimator\n",
        "        self.models = []\n",
        "        self.n_features_ = 0\n",
        "\n",
        "    def fit(self, X_train, y_train):\n",
        "        # YOUR CODE HERE\n",
        "        self.n_features_ = X_train.shape[1]\n",
        "        self.models = []\n",
        "\n",
        "        for i in range(self.n_features_):\n",
        "          # Create a copy of the estimator\n",
        "          model = clone(self.estimator)\n",
        "          # Exclude the i-th feature\n",
        "          X_train_subset = np.delete(X_train, i, axis=1)\n",
        "          # Fit the model\n",
        "          model.fit(X_train_subset, y_train)\n",
        "          self.models.append(model)\n",
        "\n",
        "    def predict(self, X):\n",
        "        # YOUR CODE HERE\n",
        "\n",
        "        # Collect predictions from all models\n",
        "        all_predictions = []\n",
        "\n",
        "        for i, model in enumerate(self.models):\n",
        "            # Exclude the i-th feature\n",
        "            X_subset = np.delete(X, i, axis=1)\n",
        "            # Predict using the model\n",
        "            predictions = model.predict(X_subset)\n",
        "            all_predictions.append(predictions)\n",
        "\n",
        "        # Transpose to have predictions for each sample in rows\n",
        "        all_predictions = np.array(all_predictions).T\n",
        "\n",
        "        # Get the majority vote for each sample\n",
        "        majority_vote_predictions = []\n",
        "        for preds in all_predictions:\n",
        "            unique, counts = np.unique(preds, return_counts=True)\n",
        "            majority_vote = unique[np.argmax(counts)]\n",
        "            majority_vote_predictions.append(majority_vote)\n",
        "\n",
        "        return np.array(majority_vote_predictions)"
      ]
    },
    {
      "cell_type": "code",
      "execution_count": 5,
      "metadata": {
        "deletable": false,
        "editable": false,
        "id": "iDNUeGUEciwi",
        "nbgrader": {
          "cell_type": "code",
          "checksum": "4db933425279be3712175509b4ba2f53",
          "grade": true,
          "grade_id": "cell-786f87fa5e67b624",
          "locked": true,
          "points": 4,
          "schema_version": 3,
          "solution": false,
          "task": false
        }
      },
      "outputs": [],
      "source": [
        "\"\"\"Τεστ ορθής υλοποίησης RandomSubspaceDet\"\"\"\n",
        "from sklearn.metrics import accuracy_score\n",
        "\n",
        "rs = RandomSubspaceDet(estimator=DecisionTreeClassifier(random_state=1))\n",
        "rs.fit(X_train, y_train)\n",
        "assert round(accuracy_score(rs.predict(X_test), y_test), 4) == 0.9006"
      ]
    },
    {
      "cell_type": "markdown",
      "metadata": {
        "id": "n19eEYRNRnG-"
      },
      "source": [
        "**3** Υλοποιήστε τη μέθοδο AdaBoost όπως παρουσιάστηκε στο μάθημα. Χρησιμοποιήστε τη συνάρτηση clone από το sklearn.base για να δημιουργήστε αντίγραφο του βασικού μοντέλου σε κάθε επανάληψη. Χρησιμοποιήστε την παράμετρο sample_weight της fit του βασικού μοντέλου για να ορίσετε τα βάρη των παραδειγμάτων εκπαίδευσης. (4 μονάδες)"
      ]
    },
    {
      "cell_type": "code",
      "execution_count": 6,
      "metadata": {
        "deletable": false,
        "id": "7NOoKPI8TBX6",
        "nbgrader": {
          "cell_type": "code",
          "checksum": "7fe3d39eaf3d6a53e2b29f9ebd1e7b6a",
          "grade": false,
          "grade_id": "cell-946d2440bc05714e",
          "locked": false,
          "schema_version": 3,
          "solution": true,
          "task": false
        }
      },
      "outputs": [],
      "source": [
        "import numpy as np\n",
        "from sklearn.tree import DecisionTreeClassifier\n",
        "from sklearn.base import clone\n",
        "\n",
        "class AdaBoost:\n",
        "    def __init__(self, n_estimators=20, estimator=DecisionTreeClassifier(max_depth=1)):\n",
        "        # YOUR CODE HERE\n",
        "        self.n_estimators = n_estimators\n",
        "        self.base_estimator = estimator\n",
        "        self.estimators_ = []\n",
        "        self.alphas_ = []\n",
        "\n",
        "    def fit(self, X_train, y_train):\n",
        "        # YOUR CODE HERE\n",
        "        n_samples = X_train.shape[0]\n",
        "        # Initialize weights\n",
        "        w = np.ones(n_samples) / n_samples\n",
        "\n",
        "        # Convert y_train to -1, 1\n",
        "        y_train_converted = np.where(y_train == 0, -1, 1)\n",
        "\n",
        "        for _ in range(self.n_estimators):\n",
        "            # Create a new estimator and fit it to the data with the current weights\n",
        "            estimator = clone(self.base_estimator)\n",
        "            estimator.fit(X_train, y_train_converted, sample_weight=w)\n",
        "            y_pred = estimator.predict(X_train)\n",
        "\n",
        "            # Calculate the error\n",
        "            incorrect = (y_pred != y_train_converted)\n",
        "            error = np.dot(w, incorrect) / np.sum(w)\n",
        "\n",
        "            # Calculate the estimator weight\n",
        "            alpha = 0.5 * np.log((1 - error) / (error + 1e-10))  # Adding a small value to avoid division by zero\n",
        "\n",
        "            # Update the weights\n",
        "            w *= np.exp(-alpha * y_train_converted * y_pred)\n",
        "            w /= np.sum(w)  # Normalize weights\n",
        "\n",
        "            # Save the current estimator and its weight\n",
        "            self.estimators_.append(estimator)\n",
        "            self.alphas_.append(alpha)\n",
        "\n",
        "    def predict(self, X):\n",
        "        # YOUR CODE HERE\n",
        "        # Aggregate predictions from each estimator\n",
        "        estimator_preds = np.array([alpha * est.predict(X) for est, alpha in zip(self.estimators_, self.alphas_)])\n",
        "        # Return the sign of the weighted sum of predictions\n",
        "        y_pred = np.sign(np.sum(estimator_preds, axis=0))\n",
        "        # Convert -1, 1 back to 0, 1\n",
        "        y_pred = np.where(y_pred == -1, 0, 1)\n",
        "        return y_pred"
      ]
    },
    {
      "cell_type": "code",
      "execution_count": 7,
      "metadata": {
        "deletable": false,
        "editable": false,
        "id": "jVjqVcv_tmYk",
        "nbgrader": {
          "cell_type": "code",
          "checksum": "32aff6a2c5ed06a7b34e982fc295d895",
          "grade": true,
          "grade_id": "cell-88a2903df26757f7",
          "locked": true,
          "points": 4,
          "schema_version": 3,
          "solution": false,
          "task": false
        }
      },
      "outputs": [],
      "source": [
        "\"\"\"Τεστ ορθής υλοποίησης AdaBoost\"\"\"\n",
        "from sklearn.ensemble import AdaBoostClassifier\n",
        "from sklearn.metrics import accuracy_score\n",
        "\n",
        "ab = AdaBoost(n_estimators=20, estimator=DecisionTreeClassifier(max_depth=1, random_state=1))\n",
        "ab.fit(X_train, y_train)\n",
        "assert round(accuracy_score(ab.predict(X_test), y_test), 4) == 0.9591\n"
      ]
    },
    {
      "cell_type": "code",
      "execution_count": 8,
      "metadata": {
        "deletable": false,
        "editable": false,
        "id": "0QkPMoBNz3T5",
        "nbgrader": {
          "cell_type": "code",
          "checksum": "71c5a522427b4fc254b65b5d431a767d",
          "grade": false,
          "grade_id": "cell-4f6f954c3531f480",
          "locked": true,
          "schema_version": 3,
          "solution": false,
          "task": false
        }
      },
      "outputs": [],
      "source": [
        "# Ίδιο αποτέλεσμα και με τη κλάση της sklearn\n",
        "ab = AdaBoostClassifier(n_estimators=20, algorithm=\"SAMME\", estimator=DecisionTreeClassifier(max_depth=1, random_state=1))\n",
        "ab.fit(X_train, y_train)\n",
        "assert round(accuracy_score(ab.predict(X_test), y_test), 4) == 0.9591"
      ]
    }
  ],
  "metadata": {
    "colab": {
      "provenance": []
    },
    "kernelspec": {
      "display_name": "Python 3 (ipykernel)",
      "language": "python",
      "name": "python3"
    },
    "language_info": {
      "codemirror_mode": {
        "name": "ipython",
        "version": 3
      },
      "file_extension": ".py",
      "mimetype": "text/x-python",
      "name": "python",
      "nbconvert_exporter": "python",
      "pygments_lexer": "ipython3",
      "version": "3.10.12"
    }
  },
  "nbformat": 4,
  "nbformat_minor": 0
}